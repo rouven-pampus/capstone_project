{
 "cells": [
  {
   "cell_type": "markdown",
   "metadata": {},
   "source": [
    "# Baseline Model\n",
    "---\n",
    "\n",
    "The aim of this script is to provide a baseline model for our electricity prices project.\n",
    "\n",
    "Idea:\n",
    "For the baseline model, we assume that the predicted value for each hour is the same as the value from the previous day at the same hour. This simple approach leverages the daily seasonal pattern often observed in electricity prices."
   ]
  },
  {
   "cell_type": "code",
   "execution_count": null,
   "metadata": {},
   "outputs": [],
   "source": [
    "# Import MLFlow -> probably not possible as no ML is used???"
   ]
  },
  {
   "cell_type": "code",
   "execution_count": null,
   "metadata": {},
   "outputs": [],
   "source": [
    "# load MLFlow package"
   ]
  },
  {
   "cell_type": "code",
   "execution_count": null,
   "metadata": {},
   "outputs": [],
   "source": [
    "# load modules\n",
    "import pandas as pd\n",
    "from sklearn.metrics import mean_squared_error"
   ]
  },
  {
   "cell_type": "code",
   "execution_count": null,
   "metadata": {},
   "outputs": [],
   "source": [
    "# load data\n",
    "df = pd.read_csv('FILENAME_HERE.csv', parse_dates=['timestamp_column_name'])"
   ]
  },
  {
   "cell_type": "code",
   "execution_count": null,
   "metadata": {},
   "outputs": [],
   "source": [
    "# Create lag feature for the same hour on the previous day\n",
    "df['price_lag24'] = df['price'].shift(24)"
   ]
  },
  {
   "cell_type": "code",
   "execution_count": null,
   "metadata": {},
   "outputs": [],
   "source": [
    "# Drop missing values\n",
    "df.dropna(inplace=True)"
   ]
  },
  {
   "cell_type": "code",
   "execution_count": null,
   "metadata": {},
   "outputs": [],
   "source": [
    "# Train-test split -> watch out for sorted dataframe by date\n",
    "train_size = int(len(df) * 0.8) # Need the same split for our later models!\n",
    "train, test = df[:train_size], df[train_size:]"
   ]
  },
  {
   "cell_type": "markdown",
   "metadata": {},
   "source": [
    "---\n",
    "To be sure using the same split for the baseline model and our Machine Learning Models, we can extract the index from the train and test datasets.\n",
    "```python\n",
    "# Store indexes to ensure the same split\n",
    "train_index = train.index\n",
    "test_index = test.index\n",
    "```\n",
    "\n",
    "When we have done that, we can then use following code to split the data:\n",
    "```python\n",
    "# Use the same split indexes for train-test split\n",
    "X_train, X_test = X.loc[train_index], X.loc[test_index]\n",
    "y_train, y_test = y.loc[train_index], y.loc[test_index]\n",
    "```\n",
    "\n",
    "However, I am not sure yet if this is the best way, also with regards of cross-validation etc. Need to rethink that.\n",
    "\n",
    "---\n"
   ]
  },
  {
   "cell_type": "code",
   "execution_count": null,
   "metadata": {},
   "outputs": [],
   "source": [
    "# Baseline Model: Predict the price based on the previous day's same hour price\n",
    "test['prediction'] = test['price_lag24']"
   ]
  },
  {
   "cell_type": "code",
   "execution_count": null,
   "metadata": {},
   "outputs": [],
   "source": [
    "# Calculate Error\n",
    "mse = mean_squared_error(test['price'], test['prediction'])\n",
    "print(f'Baseline Model MSE: {mse}')"
   ]
  }
 ],
 "metadata": {
  "language_info": {
   "name": "python"
  }
 },
 "nbformat": 4,
 "nbformat_minor": 2
}
