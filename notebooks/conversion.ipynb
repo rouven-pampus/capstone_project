{
 "cells": [
  {
   "cell_type": "code",
   "execution_count": 6,
   "metadata": {},
   "outputs": [
    {
     "name": "stdout",
     "output_type": "stream",
     "text": [
      "Combined data exported to combined_data.csv\n"
     ]
    }
   ],
   "source": [
    "import pandas as pd\n",
    "import os\n",
    "# Define the folder containing the files\n",
    "folder_path = '/Users/rouvenpampus/Downloads/wetter/wind'\n",
    "\n",
    "# Initialize an empty list to store DataFrames\n",
    "dfs = []\n",
    "# Iterate through all files in the folder\n",
    "for filename in os.listdir(folder_path):\n",
    "    if filename.endswith('.txt'):  # Process only .txt files\n",
    "        file_path = os.path.join(folder_path, filename)\n",
    "        \n",
    "        # Read the file into a DataFrame\n",
    "        df = pd.read_csv(file_path, sep=';', skipinitialspace=True)\n",
    "        \n",
    "        # Append the DataFrame to the list\n",
    "        dfs.append(df)\n",
    "        \n",
    "# Concatenate all DataFrames into a single DataFrame\n",
    "combined_df = pd.concat(dfs, ignore_index=True)\n",
    "\n",
    "# Convert MESS_DATUM to datetime format\n",
    "combined_df['MESS_DATUM'] = pd.to_datetime(combined_df['MESS_DATUM'], format='%Y-%m-%d %H:%M:%S')\n",
    "\n",
    "# Sort by MESS_DATUM\n",
    "combined_df = combined_df.sort_values(by=['STATIONS_ID', 'MESS_DATUM'])\n",
    "\n",
    "# Drop duplicates based on STATIONS_ID and keep the first occurrence (earliest date)\n",
    "combined_df = combined_df.drop_duplicates(subset=['STATIONS_ID', 'MESS_DATUM'], keep='first')\n",
    "\n",
    "# Export the combined DataFrame to a CSV file\n",
    "combined_df.to_csv('../data/combined_wind_data.csv', index=False)\n",
    "print(\"Combined data exported to combined_data.csv\")"
   ]
  },
  {
   "cell_type": "code",
   "execution_count": 7,
   "metadata": {},
   "outputs": [
    {
     "name": "stdout",
     "output_type": "stream",
     "text": [
      "Combined data exported to combined_data.csv\n"
     ]
    }
   ],
   "source": [
    "\n",
    "import pandas as pd\n",
    "import os\n",
    "# Define the folder containing the files\n",
    "folder_path = '/Users/rouvenpampus/Downloads/wetter/solar'\n",
    "\n",
    "# Initialize an empty list to store DataFrames\n",
    "dfs = []\n",
    "# Iterate through all files in the folder\n",
    "for filename in os.listdir(folder_path):\n",
    "    if filename.endswith('.txt'):  # Process only .txt files\n",
    "        file_path = os.path.join(folder_path, filename)\n",
    "        \n",
    "        # Read the file into a DataFrame\n",
    "        df = pd.read_csv(file_path, sep=';', skipinitialspace=True)\n",
    "        \n",
    "        # Append the DataFrame to the list\n",
    "        dfs.append(df)\n",
    "        \n",
    "# Concatenate all DataFrames into a single DataFrame\n",
    "combined_df = pd.concat(dfs, ignore_index=True)\n",
    "\n",
    "# Convert MESS_DATUM to datetime format\n",
    "combined_df['MESS_DATUM'] = pd.to_datetime(combined_df['MESS_DATUM'], format='%Y-%m-%d %H:%M:%S')\n",
    "\n",
    "# Sort by MESS_DATUM\n",
    "combined_df = combined_df.sort_values(by=['STATIONS_ID', 'MESS_DATUM'])\n",
    "\n",
    "# Drop duplicates based on STATIONS_ID and keep the first occurrence (earliest date)\n",
    "combined_df = combined_df.drop_duplicates(subset=['STATIONS_ID', 'MESS_DATUM'], keep='first')\n",
    "\n",
    "# Export the combined DataFrame to a CSV file\n",
    "combined_df.to_csv('../data/combined_solar_data.csv', index=False)\n",
    "print(\"Combined data exported to combined_data.csv\")"
   ]
  },
  {
   "cell_type": "code",
   "execution_count": 8,
   "metadata": {},
   "outputs": [
    {
     "name": "stdout",
     "output_type": "stream",
     "text": [
      "Combined data exported to combined_data.csv\n"
     ]
    }
   ],
   "source": [
    "\n",
    "import pandas as pd\n",
    "import os\n",
    "# Define the folder containing the files\n",
    "folder_path = '/Users/rouvenpampus/Downloads/wetter/temp'\n",
    "\n",
    "# Initialize an empty list to store DataFrames\n",
    "dfs = []\n",
    "# Iterate through all files in the folder\n",
    "for filename in os.listdir(folder_path):\n",
    "    if filename.endswith('.txt'):  # Process only .txt files\n",
    "        file_path = os.path.join(folder_path, filename)\n",
    "        \n",
    "        # Read the file into a DataFrame\n",
    "        df = pd.read_csv(file_path, sep=';', skipinitialspace=True)\n",
    "        \n",
    "        # Append the DataFrame to the list\n",
    "        dfs.append(df)\n",
    "        \n",
    "# Concatenate all DataFrames into a single DataFrame\n",
    "combined_df = pd.concat(dfs, ignore_index=True)\n",
    "\n",
    "# Convert MESS_DATUM to datetime format\n",
    "combined_df['MESS_DATUM'] = pd.to_datetime(combined_df['MESS_DATUM'], format='%Y-%m-%d %H:%M:%S')\n",
    "\n",
    "# Sort by MESS_DATUM\n",
    "combined_df = combined_df.sort_values(by=['STATIONS_ID', 'MESS_DATUM'])\n",
    "\n",
    "# Drop duplicates based on STATIONS_ID and keep the first occurrence (earliest date)\n",
    "combined_df = combined_df.drop_duplicates(subset=['STATIONS_ID', 'MESS_DATUM'], keep='first')\n",
    "\n",
    "# Export the combined DataFrame to a CSV file\n",
    "combined_df.to_csv('../data/combined_temp_data.csv', index=False)\n",
    "print(\"Combined data exported to combined_data.csv\")"
   ]
  },
  {
   "cell_type": "code",
   "execution_count": null,
   "metadata": {},
   "outputs": [],
   "source": []
  }
 ],
 "metadata": {
  "kernelspec": {
   "display_name": ".venv",
   "language": "python",
   "name": "python3"
  },
  "language_info": {
   "codemirror_mode": {
    "name": "ipython",
    "version": 3
   },
   "file_extension": ".py",
   "mimetype": "text/x-python",
   "name": "python",
   "nbconvert_exporter": "python",
   "pygments_lexer": "ipython3",
   "version": "3.11.3"
  }
 },
 "nbformat": 4,
 "nbformat_minor": 2
}
