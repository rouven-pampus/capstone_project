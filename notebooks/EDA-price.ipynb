{
 "cells": [
  {
   "cell_type": "markdown",
   "metadata": {},
   "source": [
    "# EDA for price data"
   ]
  },
  {
   "cell_type": "code",
   "execution_count": 1,
   "metadata": {},
   "outputs": [],
   "source": [
    "# import packages\n",
    "\n",
    "import pandas as pd\n",
    "import numpy as np\n",
    "\n",
    "from dotenv import load_dotenv\n",
    "import os\n",
    "from sqlalchemy import create_engine\n",
    "import pandas as pd"
   ]
  },
  {
   "cell_type": "markdown",
   "metadata": {},
   "source": [
    "### Getting the data"
   ]
  },
  {
   "cell_type": "code",
   "execution_count": 2,
   "metadata": {},
   "outputs": [
    {
     "name": "stdout",
     "output_type": "stream",
     "text": [
      "             start_date             end_date   \n",
      "0  Jan 1, 2018 12:00 AM  Jan 1, 2018 1:00 AM  \\\n",
      "1   Jan 1, 2018 1:00 AM  Jan 1, 2018 2:00 AM   \n",
      "2   Jan 1, 2018 2:00 AM  Jan 1, 2018 3:00 AM   \n",
      "3   Jan 1, 2018 3:00 AM  Jan 1, 2018 4:00 AM   \n",
      "4   Jan 1, 2018 4:00 AM  Jan 1, 2018 5:00 AM   \n",
      "\n",
      "  germany/luxembourg_[€/mwh]_original_resolutions   \n",
      "0                                            None  \\\n",
      "1                                            None   \n",
      "2                                            None   \n",
      "3                                            None   \n",
      "4                                            None   \n",
      "\n",
      "  ∅_de/lu_neighbours_[€/mwh]_original_resolutions   \n",
      "0                                            None  \\\n",
      "1                                            None   \n",
      "2                                            None   \n",
      "3                                            None   \n",
      "4                                            None   \n",
      "\n",
      "   belgium_[€/mwh]_original_resolutions   \n",
      "0                                 14.16  \\\n",
      "1                                  4.74   \n",
      "2                                  3.66   \n",
      "3                                  1.26   \n",
      "4                                -20.10   \n",
      "\n",
      "   denmark_1_[€/mwh]_original_resolutions   \n",
      "0                                   21.80  \\\n",
      "1                                   26.43   \n",
      "2                                   26.10   \n",
      "3                                   24.70   \n",
      "4                                   24.74   \n",
      "\n",
      "   denmark_2_[€/mwh]_original_resolutions   \n",
      "0                                   26.33  \\\n",
      "1                                   26.43   \n",
      "2                                   26.10   \n",
      "3                                   24.70   \n",
      "4                                   24.74   \n",
      "\n",
      "   france_[€/mwh]_original_resolutions   \n",
      "0                                 6.74  \\\n",
      "1                                 4.74   \n",
      "2                                 3.66   \n",
      "3                                 1.26   \n",
      "4                               -20.10   \n",
      "\n",
      "   netherlands_[€/mwh]_original_resolutions   \n",
      "0                                     27.20  \\\n",
      "1                                     27.30   \n",
      "2                                     30.10   \n",
      "3                                     20.87   \n",
      "4                                     25.56   \n",
      "\n",
      "   norway_2_[€/mwh]_original_resolutions austria_[€/mwh]_original_resolutions   \n",
      "0                                  26.33                                 None  \\\n",
      "1                                  26.43                                 None   \n",
      "2                                  26.10                                 None   \n",
      "3                                  24.70                                 None   \n",
      "4                                  24.74                                 None   \n",
      "\n",
      "  poland_[€/mwh]_original_resolutions  sweden_4_[€/mwh]_original_resolutions   \n",
      "0                                None                                  26.33  \\\n",
      "1                                None                                  26.43   \n",
      "2                                None                                  26.10   \n",
      "3                                None                                  24.70   \n",
      "4                                None                                  24.74   \n",
      "\n",
      "   switzerland_[€/mwh]_original_resolutions   \n",
      "0                                     36.99  \\\n",
      "1                                     31.08   \n",
      "2                                     29.17   \n",
      "3                                     21.96   \n",
      "4                                     14.96   \n",
      "\n",
      "   czech_republic_[€/mwh]_original_resolutions   \n",
      "0                                        -10.0  \\\n",
      "1                                        -19.0   \n",
      "2                                        -20.1   \n",
      "3                                        -26.9   \n",
      "4                                        -27.5   \n",
      "\n",
      "   de/at/lu_[€/mwh]_original_resolutions   \n",
      "0                                  -5.27  \\\n",
      "1                                 -29.99   \n",
      "2                                 -56.65   \n",
      "3                                 -63.14   \n",
      "4                                 -64.62   \n",
      "\n",
      "   northern_italy_[€/mwh]_original_resolutions   \n",
      "0                                        45.73  \\\n",
      "1                                        44.16   \n",
      "2                                        42.24   \n",
      "3                                        39.29   \n",
      "4                                        36.00   \n",
      "\n",
      "   slovenia_[€/mwh]_original_resolutions  hungary_[€/mwh]_original_resolutions  \n",
      "0                                    4.9                                  4.29  \n",
      "1                                    3.0                                  0.22  \n",
      "2                                    1.0                                  0.21  \n",
      "3                                    1.0                                  0.07  \n",
      "4                                  -42.5                                -17.44  \n"
     ]
    }
   ],
   "source": [
    "# Load environment variables from .env file\n",
    "load_dotenv()\n",
    "\n",
    "# Get database connection parameters from environment variables\n",
    "db_name = os.getenv('DB_NAME')\n",
    "db_user = os.getenv('DB_USER')\n",
    "db_password = os.getenv('DB_PASSWORD')\n",
    "db_host = os.getenv('DB_HOST')\n",
    "db_port = os.getenv('DB_PORT')\n",
    "\n",
    "# Create the database URL\n",
    "db_url = f\"postgresql://{db_user}:{db_password}@{db_host}:{db_port}/{db_name}\"\n",
    "\n",
    "# Create an engine\n",
    "engine = create_engine(db_url)\n",
    "\n",
    "# Define your query\n",
    "query = 'SELECT * FROM \"01_bronze\".\"raw_market_day_ahead_prices\"'\n",
    "\n",
    "# Execute the query and load the data into a pandas DataFrame\n",
    "df_check = pd.read_sql(query, engine)\n",
    "\n",
    "# Display the DataFrame\n",
    "print(df_check.head())"
   ]
  },
  {
   "cell_type": "markdown",
   "metadata": {},
   "source": [
    "### Overview of data"
   ]
  },
  {
   "cell_type": "code",
   "execution_count": 3,
   "metadata": {},
   "outputs": [
    {
     "data": {
      "text/html": [
       "<div>\n",
       "<style scoped>\n",
       "    .dataframe tbody tr th:only-of-type {\n",
       "        vertical-align: middle;\n",
       "    }\n",
       "\n",
       "    .dataframe tbody tr th {\n",
       "        vertical-align: top;\n",
       "    }\n",
       "\n",
       "    .dataframe thead th {\n",
       "        text-align: right;\n",
       "    }\n",
       "</style>\n",
       "<table border=\"1\" class=\"dataframe\">\n",
       "  <thead>\n",
       "    <tr style=\"text-align: right;\">\n",
       "      <th></th>\n",
       "      <th>start_date</th>\n",
       "      <th>end_date</th>\n",
       "      <th>germany/luxembourg_[€/mwh]_original_resolutions</th>\n",
       "      <th>∅_de/lu_neighbours_[€/mwh]_original_resolutions</th>\n",
       "      <th>belgium_[€/mwh]_original_resolutions</th>\n",
       "      <th>denmark_1_[€/mwh]_original_resolutions</th>\n",
       "      <th>denmark_2_[€/mwh]_original_resolutions</th>\n",
       "      <th>france_[€/mwh]_original_resolutions</th>\n",
       "      <th>netherlands_[€/mwh]_original_resolutions</th>\n",
       "      <th>norway_2_[€/mwh]_original_resolutions</th>\n",
       "      <th>austria_[€/mwh]_original_resolutions</th>\n",
       "      <th>poland_[€/mwh]_original_resolutions</th>\n",
       "      <th>sweden_4_[€/mwh]_original_resolutions</th>\n",
       "      <th>switzerland_[€/mwh]_original_resolutions</th>\n",
       "      <th>czech_republic_[€/mwh]_original_resolutions</th>\n",
       "      <th>de/at/lu_[€/mwh]_original_resolutions</th>\n",
       "      <th>northern_italy_[€/mwh]_original_resolutions</th>\n",
       "      <th>slovenia_[€/mwh]_original_resolutions</th>\n",
       "      <th>hungary_[€/mwh]_original_resolutions</th>\n",
       "    </tr>\n",
       "  </thead>\n",
       "  <tbody>\n",
       "    <tr>\n",
       "      <th>0</th>\n",
       "      <td>Jan 1, 2018 12:00 AM</td>\n",
       "      <td>Jan 1, 2018 1:00 AM</td>\n",
       "      <td>None</td>\n",
       "      <td>None</td>\n",
       "      <td>14.16</td>\n",
       "      <td>21.80</td>\n",
       "      <td>26.33</td>\n",
       "      <td>6.74</td>\n",
       "      <td>27.20</td>\n",
       "      <td>26.33</td>\n",
       "      <td>None</td>\n",
       "      <td>None</td>\n",
       "      <td>26.33</td>\n",
       "      <td>36.99</td>\n",
       "      <td>-10.0</td>\n",
       "      <td>-5.27</td>\n",
       "      <td>45.73</td>\n",
       "      <td>4.9</td>\n",
       "      <td>4.29</td>\n",
       "    </tr>\n",
       "    <tr>\n",
       "      <th>1</th>\n",
       "      <td>Jan 1, 2018 1:00 AM</td>\n",
       "      <td>Jan 1, 2018 2:00 AM</td>\n",
       "      <td>None</td>\n",
       "      <td>None</td>\n",
       "      <td>4.74</td>\n",
       "      <td>26.43</td>\n",
       "      <td>26.43</td>\n",
       "      <td>4.74</td>\n",
       "      <td>27.30</td>\n",
       "      <td>26.43</td>\n",
       "      <td>None</td>\n",
       "      <td>None</td>\n",
       "      <td>26.43</td>\n",
       "      <td>31.08</td>\n",
       "      <td>-19.0</td>\n",
       "      <td>-29.99</td>\n",
       "      <td>44.16</td>\n",
       "      <td>3.0</td>\n",
       "      <td>0.22</td>\n",
       "    </tr>\n",
       "    <tr>\n",
       "      <th>2</th>\n",
       "      <td>Jan 1, 2018 2:00 AM</td>\n",
       "      <td>Jan 1, 2018 3:00 AM</td>\n",
       "      <td>None</td>\n",
       "      <td>None</td>\n",
       "      <td>3.66</td>\n",
       "      <td>26.10</td>\n",
       "      <td>26.10</td>\n",
       "      <td>3.66</td>\n",
       "      <td>30.10</td>\n",
       "      <td>26.10</td>\n",
       "      <td>None</td>\n",
       "      <td>None</td>\n",
       "      <td>26.10</td>\n",
       "      <td>29.17</td>\n",
       "      <td>-20.1</td>\n",
       "      <td>-56.65</td>\n",
       "      <td>42.24</td>\n",
       "      <td>1.0</td>\n",
       "      <td>0.21</td>\n",
       "    </tr>\n",
       "    <tr>\n",
       "      <th>3</th>\n",
       "      <td>Jan 1, 2018 3:00 AM</td>\n",
       "      <td>Jan 1, 2018 4:00 AM</td>\n",
       "      <td>None</td>\n",
       "      <td>None</td>\n",
       "      <td>1.26</td>\n",
       "      <td>24.70</td>\n",
       "      <td>24.70</td>\n",
       "      <td>1.26</td>\n",
       "      <td>20.87</td>\n",
       "      <td>24.70</td>\n",
       "      <td>None</td>\n",
       "      <td>None</td>\n",
       "      <td>24.70</td>\n",
       "      <td>21.96</td>\n",
       "      <td>-26.9</td>\n",
       "      <td>-63.14</td>\n",
       "      <td>39.29</td>\n",
       "      <td>1.0</td>\n",
       "      <td>0.07</td>\n",
       "    </tr>\n",
       "    <tr>\n",
       "      <th>4</th>\n",
       "      <td>Jan 1, 2018 4:00 AM</td>\n",
       "      <td>Jan 1, 2018 5:00 AM</td>\n",
       "      <td>None</td>\n",
       "      <td>None</td>\n",
       "      <td>-20.10</td>\n",
       "      <td>24.74</td>\n",
       "      <td>24.74</td>\n",
       "      <td>-20.10</td>\n",
       "      <td>25.56</td>\n",
       "      <td>24.74</td>\n",
       "      <td>None</td>\n",
       "      <td>None</td>\n",
       "      <td>24.74</td>\n",
       "      <td>14.96</td>\n",
       "      <td>-27.5</td>\n",
       "      <td>-64.62</td>\n",
       "      <td>36.00</td>\n",
       "      <td>-42.5</td>\n",
       "      <td>-17.44</td>\n",
       "    </tr>\n",
       "  </tbody>\n",
       "</table>\n",
       "</div>"
      ],
      "text/plain": [
       "             start_date             end_date   \n",
       "0  Jan 1, 2018 12:00 AM  Jan 1, 2018 1:00 AM  \\\n",
       "1   Jan 1, 2018 1:00 AM  Jan 1, 2018 2:00 AM   \n",
       "2   Jan 1, 2018 2:00 AM  Jan 1, 2018 3:00 AM   \n",
       "3   Jan 1, 2018 3:00 AM  Jan 1, 2018 4:00 AM   \n",
       "4   Jan 1, 2018 4:00 AM  Jan 1, 2018 5:00 AM   \n",
       "\n",
       "  germany/luxembourg_[€/mwh]_original_resolutions   \n",
       "0                                            None  \\\n",
       "1                                            None   \n",
       "2                                            None   \n",
       "3                                            None   \n",
       "4                                            None   \n",
       "\n",
       "  ∅_de/lu_neighbours_[€/mwh]_original_resolutions   \n",
       "0                                            None  \\\n",
       "1                                            None   \n",
       "2                                            None   \n",
       "3                                            None   \n",
       "4                                            None   \n",
       "\n",
       "   belgium_[€/mwh]_original_resolutions   \n",
       "0                                 14.16  \\\n",
       "1                                  4.74   \n",
       "2                                  3.66   \n",
       "3                                  1.26   \n",
       "4                                -20.10   \n",
       "\n",
       "   denmark_1_[€/mwh]_original_resolutions   \n",
       "0                                   21.80  \\\n",
       "1                                   26.43   \n",
       "2                                   26.10   \n",
       "3                                   24.70   \n",
       "4                                   24.74   \n",
       "\n",
       "   denmark_2_[€/mwh]_original_resolutions   \n",
       "0                                   26.33  \\\n",
       "1                                   26.43   \n",
       "2                                   26.10   \n",
       "3                                   24.70   \n",
       "4                                   24.74   \n",
       "\n",
       "   france_[€/mwh]_original_resolutions   \n",
       "0                                 6.74  \\\n",
       "1                                 4.74   \n",
       "2                                 3.66   \n",
       "3                                 1.26   \n",
       "4                               -20.10   \n",
       "\n",
       "   netherlands_[€/mwh]_original_resolutions   \n",
       "0                                     27.20  \\\n",
       "1                                     27.30   \n",
       "2                                     30.10   \n",
       "3                                     20.87   \n",
       "4                                     25.56   \n",
       "\n",
       "   norway_2_[€/mwh]_original_resolutions austria_[€/mwh]_original_resolutions   \n",
       "0                                  26.33                                 None  \\\n",
       "1                                  26.43                                 None   \n",
       "2                                  26.10                                 None   \n",
       "3                                  24.70                                 None   \n",
       "4                                  24.74                                 None   \n",
       "\n",
       "  poland_[€/mwh]_original_resolutions  sweden_4_[€/mwh]_original_resolutions   \n",
       "0                                None                                  26.33  \\\n",
       "1                                None                                  26.43   \n",
       "2                                None                                  26.10   \n",
       "3                                None                                  24.70   \n",
       "4                                None                                  24.74   \n",
       "\n",
       "   switzerland_[€/mwh]_original_resolutions   \n",
       "0                                     36.99  \\\n",
       "1                                     31.08   \n",
       "2                                     29.17   \n",
       "3                                     21.96   \n",
       "4                                     14.96   \n",
       "\n",
       "   czech_republic_[€/mwh]_original_resolutions   \n",
       "0                                        -10.0  \\\n",
       "1                                        -19.0   \n",
       "2                                        -20.1   \n",
       "3                                        -26.9   \n",
       "4                                        -27.5   \n",
       "\n",
       "   de/at/lu_[€/mwh]_original_resolutions   \n",
       "0                                  -5.27  \\\n",
       "1                                 -29.99   \n",
       "2                                 -56.65   \n",
       "3                                 -63.14   \n",
       "4                                 -64.62   \n",
       "\n",
       "   northern_italy_[€/mwh]_original_resolutions   \n",
       "0                                        45.73  \\\n",
       "1                                        44.16   \n",
       "2                                        42.24   \n",
       "3                                        39.29   \n",
       "4                                        36.00   \n",
       "\n",
       "   slovenia_[€/mwh]_original_resolutions  hungary_[€/mwh]_original_resolutions  \n",
       "0                                    4.9                                  4.29  \n",
       "1                                    3.0                                  0.22  \n",
       "2                                    1.0                                  0.21  \n",
       "3                                    1.0                                  0.07  \n",
       "4                                  -42.5                                -17.44  "
      ]
     },
     "execution_count": 3,
     "metadata": {},
     "output_type": "execute_result"
    }
   ],
   "source": [
    "df_check.head()"
   ]
  },
  {
   "cell_type": "code",
   "execution_count": 4,
   "metadata": {},
   "outputs": [
    {
     "data": {
      "text/html": [
       "<div>\n",
       "<style scoped>\n",
       "    .dataframe tbody tr th:only-of-type {\n",
       "        vertical-align: middle;\n",
       "    }\n",
       "\n",
       "    .dataframe tbody tr th {\n",
       "        vertical-align: top;\n",
       "    }\n",
       "\n",
       "    .dataframe thead th {\n",
       "        text-align: right;\n",
       "    }\n",
       "</style>\n",
       "<table border=\"1\" class=\"dataframe\">\n",
       "  <thead>\n",
       "    <tr style=\"text-align: right;\">\n",
       "      <th></th>\n",
       "      <th>start_date</th>\n",
       "      <th>end_date</th>\n",
       "      <th>Price_Germany[€/MWh]</th>\n",
       "    </tr>\n",
       "  </thead>\n",
       "  <tbody>\n",
       "    <tr>\n",
       "      <th>0</th>\n",
       "      <td>Jan 1, 2018 12:00 AM</td>\n",
       "      <td>Jan 1, 2018 1:00 AM</td>\n",
       "      <td>None</td>\n",
       "    </tr>\n",
       "    <tr>\n",
       "      <th>1</th>\n",
       "      <td>Jan 1, 2018 1:00 AM</td>\n",
       "      <td>Jan 1, 2018 2:00 AM</td>\n",
       "      <td>None</td>\n",
       "    </tr>\n",
       "    <tr>\n",
       "      <th>2</th>\n",
       "      <td>Jan 1, 2018 2:00 AM</td>\n",
       "      <td>Jan 1, 2018 3:00 AM</td>\n",
       "      <td>None</td>\n",
       "    </tr>\n",
       "    <tr>\n",
       "      <th>3</th>\n",
       "      <td>Jan 1, 2018 3:00 AM</td>\n",
       "      <td>Jan 1, 2018 4:00 AM</td>\n",
       "      <td>None</td>\n",
       "    </tr>\n",
       "    <tr>\n",
       "      <th>4</th>\n",
       "      <td>Jan 1, 2018 4:00 AM</td>\n",
       "      <td>Jan 1, 2018 5:00 AM</td>\n",
       "      <td>None</td>\n",
       "    </tr>\n",
       "  </tbody>\n",
       "</table>\n",
       "</div>"
      ],
      "text/plain": [
       "             start_date             end_date Price_Germany[€/MWh]\n",
       "0  Jan 1, 2018 12:00 AM  Jan 1, 2018 1:00 AM                 None\n",
       "1   Jan 1, 2018 1:00 AM  Jan 1, 2018 2:00 AM                 None\n",
       "2   Jan 1, 2018 2:00 AM  Jan 1, 2018 3:00 AM                 None\n",
       "3   Jan 1, 2018 3:00 AM  Jan 1, 2018 4:00 AM                 None\n",
       "4   Jan 1, 2018 4:00 AM  Jan 1, 2018 5:00 AM                 None"
      ]
     },
     "execution_count": 4,
     "metadata": {},
     "output_type": "execute_result"
    }
   ],
   "source": [
    "# We want only germany\n",
    "price_germany = df_check.iloc[:, 0:3]\n",
    "\n",
    "# Rename column\n",
    "price_germany.rename(columns={'germany/luxembourg_[€/mwh]_original_resolutions' : 'Price_Germany[€/MWh]'}, inplace=True)\n",
    "price_germany.head()"
   ]
  },
  {
   "cell_type": "code",
   "execution_count": 5,
   "metadata": {},
   "outputs": [
    {
     "name": "stdout",
     "output_type": "stream",
     "text": [
      "<class 'pandas.core.frame.DataFrame'>\n",
      "RangeIndex: 83039 entries, 0 to 83038\n",
      "Data columns (total 3 columns):\n",
      " #   Column                Non-Null Count  Dtype         \n",
      "---  ------                --------------  -----         \n",
      " 0   start_date            83039 non-null  datetime64[ns]\n",
      " 1   end_date              83039 non-null  datetime64[ns]\n",
      " 2   Price_Germany[€/MWh]  50184 non-null  object        \n",
      "dtypes: datetime64[ns](2), object(1)\n",
      "memory usage: 1.9+ MB\n"
     ]
    }
   ],
   "source": [
    "# transform date to datetime\n",
    "price_germany['start_date'] = pd.to_datetime(price_germany['start_date'], format='%b %d, %Y %I:%M %p')\n",
    "price_germany['end_date'] = pd.to_datetime(price_germany['end_date'], format='%b %d, %Y %I:%M %p')\n",
    "\n",
    "price_germany.info()"
   ]
  },
  {
   "cell_type": "code",
   "execution_count": 6,
   "metadata": {},
   "outputs": [
    {
     "data": {
      "text/html": [
       "<div>\n",
       "<style scoped>\n",
       "    .dataframe tbody tr th:only-of-type {\n",
       "        vertical-align: middle;\n",
       "    }\n",
       "\n",
       "    .dataframe tbody tr th {\n",
       "        vertical-align: top;\n",
       "    }\n",
       "\n",
       "    .dataframe thead th {\n",
       "        text-align: right;\n",
       "    }\n",
       "</style>\n",
       "<table border=\"1\" class=\"dataframe\">\n",
       "  <thead>\n",
       "    <tr style=\"text-align: right;\">\n",
       "      <th></th>\n",
       "      <th>start_date</th>\n",
       "      <th>end_date</th>\n",
       "    </tr>\n",
       "  </thead>\n",
       "  <tbody>\n",
       "    <tr>\n",
       "      <th>count</th>\n",
       "      <td>83039</td>\n",
       "      <td>83039</td>\n",
       "    </tr>\n",
       "    <tr>\n",
       "      <th>mean</th>\n",
       "      <td>2019-09-26 23:34:56.426980096</td>\n",
       "      <td>2019-09-27 00:34:46.022230272</td>\n",
       "    </tr>\n",
       "    <tr>\n",
       "      <th>min</th>\n",
       "      <td>2015-01-01 00:00:00</td>\n",
       "      <td>2015-01-01 01:00:00</td>\n",
       "    </tr>\n",
       "    <tr>\n",
       "      <th>25%</th>\n",
       "      <td>2017-05-15 00:30:00</td>\n",
       "      <td>2017-05-15 01:30:00</td>\n",
       "    </tr>\n",
       "    <tr>\n",
       "      <th>50%</th>\n",
       "      <td>2019-09-27 00:00:00</td>\n",
       "      <td>2019-09-27 01:00:00</td>\n",
       "    </tr>\n",
       "    <tr>\n",
       "      <th>75%</th>\n",
       "      <td>2022-02-07 22:30:00</td>\n",
       "      <td>2022-02-07 23:30:00</td>\n",
       "    </tr>\n",
       "    <tr>\n",
       "      <th>max</th>\n",
       "      <td>2024-06-21 23:00:00</td>\n",
       "      <td>2024-06-22 00:00:00</td>\n",
       "    </tr>\n",
       "  </tbody>\n",
       "</table>\n",
       "</div>"
      ],
      "text/plain": [
       "                          start_date                       end_date\n",
       "count                          83039                          83039\n",
       "mean   2019-09-26 23:34:56.426980096  2019-09-27 00:34:46.022230272\n",
       "min              2015-01-01 00:00:00            2015-01-01 01:00:00\n",
       "25%              2017-05-15 00:30:00            2017-05-15 01:30:00\n",
       "50%              2019-09-27 00:00:00            2019-09-27 01:00:00\n",
       "75%              2022-02-07 22:30:00            2022-02-07 23:30:00\n",
       "max              2024-06-21 23:00:00            2024-06-22 00:00:00"
      ]
     },
     "execution_count": 6,
     "metadata": {},
     "output_type": "execute_result"
    }
   ],
   "source": [
    "# Check numerical variables\n",
    "price_germany.describe()"
   ]
  },
  {
   "cell_type": "code",
   "execution_count": 7,
   "metadata": {},
   "outputs": [
    {
     "name": "stdout",
     "output_type": "stream",
     "text": [
      "start_date - 83030\n",
      "end_date - 83020\n",
      "Price_Germany[€/MWh] - 19899\n"
     ]
    }
   ],
   "source": [
    "# Looking for nunique values\n",
    "for col in price_germany.columns:\n",
    "    print(f'{col} - {price_germany[col].nunique()}')"
   ]
  },
  {
   "cell_type": "code",
   "execution_count": 8,
   "metadata": {},
   "outputs": [
    {
     "name": "stdout",
     "output_type": "stream",
     "text": [
      "start_date - <DatetimeArray>\n",
      "['2018-01-01 00:00:00', '2018-01-01 01:00:00', '2018-01-01 02:00:00',\n",
      " '2018-01-01 03:00:00', '2018-01-01 04:00:00', '2018-01-01 05:00:00',\n",
      " '2018-01-01 06:00:00', '2018-01-01 07:00:00', '2018-01-01 08:00:00',\n",
      " '2018-01-01 09:00:00',\n",
      " ...\n",
      " '2017-12-31 14:00:00', '2017-12-31 15:00:00', '2017-12-31 16:00:00',\n",
      " '2017-12-31 17:00:00', '2017-12-31 18:00:00', '2017-12-31 19:00:00',\n",
      " '2017-12-31 20:00:00', '2017-12-31 21:00:00', '2017-12-31 22:00:00',\n",
      " '2017-12-31 23:00:00']\n",
      "Length: 83030, dtype: datetime64[ns]\n",
      "end_date - <DatetimeArray>\n",
      "['2018-01-01 01:00:00', '2018-01-01 02:00:00', '2018-01-01 03:00:00',\n",
      " '2018-01-01 04:00:00', '2018-01-01 05:00:00', '2018-01-01 06:00:00',\n",
      " '2018-01-01 07:00:00', '2018-01-01 08:00:00', '2018-01-01 09:00:00',\n",
      " '2018-01-01 10:00:00',\n",
      " ...\n",
      " '2017-12-31 15:00:00', '2017-12-31 16:00:00', '2017-12-31 17:00:00',\n",
      " '2017-12-31 18:00:00', '2017-12-31 19:00:00', '2017-12-31 20:00:00',\n",
      " '2017-12-31 21:00:00', '2017-12-31 22:00:00', '2017-12-31 23:00:00',\n",
      " '2018-01-01 00:00:00']\n",
      "Length: 83020, dtype: datetime64[ns]\n",
      "Price_Germany[€/MWh] - [None '59.53' '56.10' ... '88.54' '114.40' '105.26']\n"
     ]
    }
   ],
   "source": [
    "# Looking for unique values\n",
    "for col in price_germany.columns:\n",
    "    print(f'{col} - {price_germany[col].unique()}')"
   ]
  },
  {
   "cell_type": "code",
   "execution_count": 9,
   "metadata": {},
   "outputs": [
    {
     "data": {
      "text/plain": [
       "start_date                  0\n",
       "end_date                    0\n",
       "Price_Germany[€/MWh]    32855\n",
       "dtype: int64"
      ]
     },
     "execution_count": 9,
     "metadata": {},
     "output_type": "execute_result"
    }
   ],
   "source": [
    "# Missing values\n",
    "price_germany.isnull().sum()"
   ]
  },
  {
   "cell_type": "code",
   "execution_count": 10,
   "metadata": {},
   "outputs": [
    {
     "data": {
      "text/plain": [
       "3"
      ]
     },
     "execution_count": 10,
     "metadata": {},
     "output_type": "execute_result"
    }
   ],
   "source": [
    "# Duplicates\n",
    "price_germany.duplicated().sum()"
   ]
  },
  {
   "cell_type": "markdown",
   "metadata": {},
   "source": [
    "**Data from 01.01.2019**"
   ]
  },
  {
   "cell_type": "code",
   "execution_count": 11,
   "metadata": {},
   "outputs": [
    {
     "data": {
      "text/plain": [
       "start_date              0\n",
       "end_date                0\n",
       "Price_Germany[€/MWh]    0\n",
       "dtype: int64"
      ]
     },
     "execution_count": 11,
     "metadata": {},
     "output_type": "execute_result"
    }
   ],
   "source": [
    "# We only want data from 01.01.2019\n",
    "price_germany = price_germany[price_germany['start_date'].dt.year >= 2019]\n",
    "price_germany.isnull().sum()"
   ]
  },
  {
   "cell_type": "code",
   "execution_count": 12,
   "metadata": {},
   "outputs": [
    {
     "data": {
      "text/plain": [
       "0"
      ]
     },
     "execution_count": 12,
     "metadata": {},
     "output_type": "execute_result"
    }
   ],
   "source": [
    "price_germany.duplicated().sum()"
   ]
  },
  {
   "cell_type": "markdown",
   "metadata": {},
   "source": [
    "***Result:***\n",
    "- If we take the data from 01.01.2019, we will no longer have any NAs or duplicates"
   ]
  },
  {
   "cell_type": "code",
   "execution_count": null,
   "metadata": {},
   "outputs": [],
   "source": []
  },
  {
   "cell_type": "code",
   "execution_count": 13,
   "metadata": {},
   "outputs": [
    {
     "data": {
      "image/png": "[encoded data removed]",
      "text/plain": [
       "<Figure size 1000x500 with 1 Axes>"
      ]
     },
     "metadata": {},
     "output_type": "display_data"
    }
   ],
   "source": [
    "import matplotlib.pyplot as plt\n",
    "\n",
    "# Sort data by date, if necessaryprice_germany = price_germany.sort_values('start_date')\n",
    "\n",
    "# Create line plot\n",
    "plt.figure(figsize=(10, 5))  # Adjust the size of the plot\n",
    "plt.plot(price_germany['start_date'], price_germany['Price_Germany[€/MWh]'], marker='o', linestyle='-')  # 'o' and '-' for points and lines\n",
    "plt.title('Price development over time')  \n",
    "plt.xlabel('Date')  \n",
    "plt.ylabel('Price')\n",
    "plt.grid(True)  \n",
    "plt.show()  "
   ]
  },
  {
   "cell_type": "markdown",
   "metadata": {},
   "source": [
    "*It doesn't look good with so many data points. That's why only the average daily value is taken now.*"
   ]
  },
  {
   "cell_type": "code",
   "execution_count": 14,
   "metadata": {},
   "outputs": [],
   "source": [
    "# Convert the strings into numerical values:\n",
    "\n",
    "# Separate string by dots\n",
    "def convert_to_numeric(x):\n",
    "    try:\n",
    "        return pd.to_numeric(x.split('.')[0])  # Takes the first value before the point\n",
    "    except:\n",
    "        return pd.np.nan  # SSets NaN if there is a problem\n",
    "\n",
    "price_germany['Price_Germany[€/MWh]'] = price_germany['Price_Germany[€/MWh]'].apply(convert_to_numeric)\n"
   ]
  },
  {
   "cell_type": "code",
   "execution_count": 15,
   "metadata": {},
   "outputs": [
    {
     "name": "stdout",
     "output_type": "stream",
     "text": [
      "8761    28\n",
      "8762    10\n",
      "8763    -4\n",
      "8764    -9\n",
      "8765    -7\n",
      "Name: Price_Germany[€/MWh], dtype: int64\n",
      "count    47975.000000\n",
      "mean        95.893841\n",
      "std        101.821946\n",
      "min       -500.000000\n",
      "25%         35.000000\n",
      "50%         61.000000\n",
      "75%        116.000000\n",
      "max        871.000000\n",
      "Name: Price_Germany[€/MWh], dtype: float64\n"
     ]
    }
   ],
   "source": [
    "# Check the conversion\n",
    "print(price_germany['Price_Germany[€/MWh]'].head())\n",
    "print(price_germany['Price_Germany[€/MWh]'].describe())\n"
   ]
  },
  {
   "cell_type": "code",
   "execution_count": 16,
   "metadata": {},
   "outputs": [
    {
     "data": {
      "image/png": "[encoded data removed]",
      "text/plain": [
       "<Figure size 1000x500 with 1 Axes>"
      ]
     },
     "metadata": {},
     "output_type": "display_data"
    }
   ],
   "source": [
    "# Set the 'start_date' as an index if it is not yet set\n",
    "price_germany.set_index('start_date', inplace=True)\n",
    "\n",
    "# Resampling of the data to daily average values\n",
    "daily_data = price_germany['Price_Germany[€/MWh]'].resample('D').mean()\n",
    "\n",
    "# Visualize the resampled data\n",
    "plt.figure(figsize=(10, 5))\n",
    "plt.plot(daily_data.index, daily_data, marker='o', linestyle='-')\n",
    "plt.title('Average daily price trend over time')\n",
    "plt.xlabel('Date')\n",
    "plt.ylabel('Average price  [€/MWh]')\n",
    "plt.grid(True)\n",
    "plt.show()\n"
   ]
  },
  {
   "cell_type": "markdown",
   "metadata": {},
   "source": [
    "### Results\n",
    "- The biggest spade is the energy crisis and the tense gas situation"
   ]
  }
 ],
 "metadata": {
  "kernelspec": {
   "display_name": ".venv",
   "language": "python",
   "name": "python3"
  },
  "language_info": {
   "codemirror_mode": {
    "name": "ipython",
    "version": 3
   },
   "file_extension": ".py",
   "mimetype": "text/x-python",
   "name": "python",
   "nbconvert_exporter": "python",
   "pygments_lexer": "ipython3",
   "version": "3.11.3"
  }
 },
 "nbformat": 4,
 "nbformat_minor": 2
}
