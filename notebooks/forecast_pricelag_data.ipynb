{
 "cells": [
  {
   "cell_type": "code",
   "execution_count": 1,
   "metadata": {},
   "outputs": [],
   "source": [
    "# import modules\n",
    "# basic\n",
    "import pandas as pd\n",
    "import numpy as np\n",
    "import datetime as dt\n",
    "from functools import reduce\n",
    "\n",
    "# SQL\n",
    "from dotenv import load_dotenv\n",
    "import os\n",
    "from sqlalchemy import create_engine\n",
    "\n",
    "# sklearn\n",
    "from sklearn.metrics import mean_squared_error\n",
    "from sklearn.preprocessing import StandardScaler\n",
    "from skforecast.ForecasterAutoreg import ForecasterAutoreg\n",
    "from skforecast.datasets import fetch_dataset\n",
    "from sklearn.ensemble import RandomForestRegressor\n",
    "\n",
    "\n",
    "# Stationary Tests\n",
    "from statsmodels.tsa.stattools import adfuller,kpss\n",
    "\n",
    "# Visualization\n",
    "import seaborn as sns\n",
    "import matplotlib.pyplot as plt\n",
    "\n",
    "NSEED = 42"
   ]
  },
  {
   "cell_type": "code",
   "execution_count": 2,
   "metadata": {},
   "outputs": [],
   "source": [
    "# set graphic parameters to have unified plot appearance\n",
    "sns.set_style(\n",
    "    style='darkgrid', \n",
    "    rc={'axes.facecolor': 'white', 'grid.color': '.8'}\n",
    ")\n",
    "NF_ORANGE = '#ff5a36'\n",
    "NF_BLUE = '#163251'\n",
    "cmaps_hex = ['#193251','#FF5A36','#696969', '#7589A2','#FF5A36', '#DB6668']\n",
    "sns.set_palette(palette=cmaps_hex)\n",
    "sns_c = sns.color_palette(palette=cmaps_hex)\n",
    "%matplotlib inline\n",
    "from pandas.plotting import register_matplotlib_converters\n",
    "register_matplotlib_converters()\n",
    "\n",
    "plt.rcParams['figure.figsize'] = [12, 6]\n",
    "plt.rcParams['figure.dpi'] = 300"
   ]
  },
  {
   "cell_type": "code",
   "execution_count": 3,
   "metadata": {},
   "outputs": [],
   "source": [
    "# Load environment variables from .env file\n",
    "load_dotenv()\n",
    "\n",
    "# Get database connection parameters from environment variables\n",
    "db_name = os.getenv('DB_NAME')\n",
    "db_user = os.getenv('DB_USER')\n",
    "db_password = os.getenv('DB_PASSWORD')\n",
    "db_host = os.getenv('DB_HOST')\n",
    "db_port = os.getenv('DB_PORT')\n",
    "\n",
    "# Create the database URL\n",
    "db_url = f\"postgresql://{db_user}:{db_password}@{db_host}:{db_port}/{db_name}\"\n",
    "\n",
    "# Create an engine\n",
    "engine = create_engine(db_url)\n",
    "\n",
    "# Define your query -> set your table name here\n",
    "query = 'SELECT * FROM \"03_gold\".\"fact_electricity_market_germany\"'\n",
    "\n",
    "# Execute the query and load the data into a pandas DataFrame\n",
    "df = pd.read_sql(query, engine)"
   ]
  },
  {
   "cell_type": "code",
   "execution_count": 4,
   "metadata": {},
   "outputs": [],
   "source": [
    "################ OUTLIER TREATMENT #######################\n",
    "# Replace outliers with NAs\n",
    "df.loc[df['price_eur_mwh'] < -200, 'price_eur_mwh'] = np.nan\n",
    "\n",
    "# Replace NAs by imputation\n",
    "df['price_eur_mwh'] = df['price_eur_mwh'].interpolate()"
   ]
  },
  {
   "cell_type": "code",
   "execution_count": 5,
   "metadata": {},
   "outputs": [],
   "source": [
    "# Create lag feature for the same hour on the previous three days\n",
    "df['price_lag24'] = df['price_eur_mwh'].shift(24)\n",
    "df['price_lag48'] = df['price_eur_mwh'].shift(48)\n",
    "df['price_lag72'] = df['price_eur_mwh'].shift(72)"
   ]
  },
  {
   "cell_type": "code",
   "execution_count": 6,
   "metadata": {},
   "outputs": [],
   "source": [
    "# Create forecast feature for the same hour on the next three days\n",
    "df_with_forecast = df\n",
    "\n",
    "weathers = ['temperature_2m', 'relative_humidity_2m', 'apparent_temperature', 'precipitation', 'cloud_cover', 'wind_speed_10m', 'wind_direction_10m',\n",
    "            'direct_radiation', 'diffuse_radiation', 'sunshine_duration']\n",
    "\n",
    "for weather in weathers:\n",
    "    df_with_forecast[f'{weather}_24'] = df_with_forecast[f'{weather}'].shift(-24)\n",
    "    df_with_forecast[f'{weather}_48'] = df_with_forecast[f'{weather}'].shift(-48)\n",
    "    df_with_forecast[f'{weather}_72'] = df_with_forecast[f'{weather}'].shift(-72)"
   ]
  },
  {
   "cell_type": "code",
   "execution_count": 7,
   "metadata": {},
   "outputs": [],
   "source": [
    "# Get forecast data\n",
    "# Define your query\n",
    "query3 = 'SELECT * FROM \"02_silver\".\"fact_full_weather\"'\n",
    "\n",
    "# Execute the query and load the data into a pandas DataFrame\n",
    "forecasts = pd.read_sql(query3, engine).sort_values('timestamp')"
   ]
  },
  {
   "cell_type": "code",
   "execution_count": 8,
   "metadata": {},
   "outputs": [],
   "source": [
    "# Aggregate forecasts across stations and cut unnecessary data\n",
    "aggregated_forecasts = forecasts.drop(columns=['station_id', 'is_forecast', 'source_table']).groupby('timestamp').mean().reset_index()\n",
    "\n",
    "max_timestamp = df_with_forecast['timestamp'].max()\n",
    "aggregated_forecasts = aggregated_forecasts[aggregated_forecasts['timestamp'] > max_timestamp]\n"
   ]
  },
  {
   "cell_type": "code",
   "execution_count": 9,
   "metadata": {},
   "outputs": [],
   "source": [
    "# Create shifted dataframes from aggregated_forecasts with the timestamp shifted by 24, 48 and 72 hours\n",
    "df24 = aggregated_forecasts.copy()\n",
    "df24['timestamp'] -= pd.DateOffset(hours=72)\n",
    "for weather in weathers:\n",
    "    df24.rename(columns={f'{weather}': f'{weather}_24'}, inplace=True)\n",
    "\n",
    "df48 = aggregated_forecasts.copy()\n",
    "df48['timestamp'] -= pd.DateOffset(hours=48)\n",
    "for weather in weathers:\n",
    "    df48.rename(columns={f'{weather}': f'{weather}_48'}, inplace=True)\n",
    "\n",
    "# Create a shifted dataframe from aggregated_forecasts with the timestamp shifted by 24 hours\n",
    "df72 = aggregated_forecasts.copy()\n",
    "df72['timestamp'] -= pd.DateOffset(hours=72)\n",
    "for weather in weathers:\n",
    "    df72.rename(columns={f'{weather}': f'{weather}_72'}, inplace=True)"
   ]
  },
  {
   "cell_type": "code",
   "execution_count": 10,
   "metadata": {},
   "outputs": [],
   "source": [
    "# Merge the dataframes on the shifted timestamp\n",
    "df1 = df[['timestamp']]\n",
    "dfs = [df1, df24, df48, df72]\n",
    "merged_df = reduce(lambda left, right: pd.merge(left, right, on='timestamp', how='outer'), dfs)"
   ]
  },
  {
   "cell_type": "code",
   "execution_count": 11,
   "metadata": {},
   "outputs": [],
   "source": [
    "# Fill NAs from merged df\n",
    "df_with_forecast = df_with_forecast.fillna(merged_df)"
   ]
  },
  {
   "cell_type": "code",
   "execution_count": 12,
   "metadata": {},
   "outputs": [],
   "source": [
    "# save data (optional)\n",
    "df_with_forecast.to_csv('../data/data_with_forecasts.csv')"
   ]
  }
 ],
 "metadata": {
  "kernelspec": {
   "display_name": ".venv",
   "language": "python",
   "name": "python3"
  },
  "language_info": {
   "codemirror_mode": {
    "name": "ipython",
    "version": 3
   },
   "file_extension": ".py",
   "mimetype": "text/x-python",
   "name": "python",
   "nbconvert_exporter": "python",
   "pygments_lexer": "ipython3",
   "version": "3.11.3"
  }
 },
 "nbformat": 4,
 "nbformat_minor": 2
}
