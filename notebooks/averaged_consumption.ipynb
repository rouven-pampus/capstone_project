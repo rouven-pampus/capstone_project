{
 "cells": [
  {
   "cell_type": "code",
   "execution_count": 1,
   "metadata": {},
   "outputs": [],
   "source": [
    "import pandas as pd\n",
    "import numpy as np\n",
    "import datetime\n",
    "\n",
    "import seaborn as sns\n",
    "import matplotlib as plt"
   ]
  },
  {
   "cell_type": "code",
   "execution_count": 2,
   "metadata": {},
   "outputs": [
    {
     "data": {
      "text/html": [
       "<div>\n",
       "<style scoped>\n",
       "    .dataframe tbody tr th:only-of-type {\n",
       "        vertical-align: middle;\n",
       "    }\n",
       "\n",
       "    .dataframe tbody tr th {\n",
       "        vertical-align: top;\n",
       "    }\n",
       "\n",
       "    .dataframe thead th {\n",
       "        text-align: right;\n",
       "    }\n",
       "</style>\n",
       "<table border=\"1\" class=\"dataframe\">\n",
       "  <thead>\n",
       "    <tr style=\"text-align: right;\">\n",
       "      <th></th>\n",
       "      <th>Datum von</th>\n",
       "      <th>Datum bis</th>\n",
       "      <th>Gesamt (Netzlast) [MWh] Berechnete Auflösungen</th>\n",
       "      <th>Residuallast [MWh] Berechnete Auflösungen</th>\n",
       "      <th>Pumpspeicher [MWh] Berechnete Auflösungen</th>\n",
       "    </tr>\n",
       "  </thead>\n",
       "  <tbody>\n",
       "    <tr>\n",
       "      <th>0</th>\n",
       "      <td>01.07.2023 00:00</td>\n",
       "      <td>01.07.2023 01:00</td>\n",
       "      <td>41.293,00</td>\n",
       "      <td>32.400,00</td>\n",
       "      <td>417,50</td>\n",
       "    </tr>\n",
       "    <tr>\n",
       "      <th>1</th>\n",
       "      <td>01.07.2023 01:00</td>\n",
       "      <td>01.07.2023 02:00</td>\n",
       "      <td>39.248,25</td>\n",
       "      <td>28.314,75</td>\n",
       "      <td>369,50</td>\n",
       "    </tr>\n",
       "    <tr>\n",
       "      <th>2</th>\n",
       "      <td>01.07.2023 02:00</td>\n",
       "      <td>01.07.2023 03:00</td>\n",
       "      <td>38.006,50</td>\n",
       "      <td>24.653,25</td>\n",
       "      <td>572,75</td>\n",
       "    </tr>\n",
       "    <tr>\n",
       "      <th>3</th>\n",
       "      <td>01.07.2023 03:00</td>\n",
       "      <td>01.07.2023 04:00</td>\n",
       "      <td>37.418,00</td>\n",
       "      <td>22.519,00</td>\n",
       "      <td>662,00</td>\n",
       "    </tr>\n",
       "    <tr>\n",
       "      <th>4</th>\n",
       "      <td>01.07.2023 04:00</td>\n",
       "      <td>01.07.2023 05:00</td>\n",
       "      <td>37.485,00</td>\n",
       "      <td>20.675,25</td>\n",
       "      <td>1.030,75</td>\n",
       "    </tr>\n",
       "  </tbody>\n",
       "</table>\n",
       "</div>"
      ],
      "text/plain": [
       "          Datum von         Datum bis   \n",
       "0  01.07.2023 00:00  01.07.2023 01:00  \\\n",
       "1  01.07.2023 01:00  01.07.2023 02:00   \n",
       "2  01.07.2023 02:00  01.07.2023 03:00   \n",
       "3  01.07.2023 03:00  01.07.2023 04:00   \n",
       "4  01.07.2023 04:00  01.07.2023 05:00   \n",
       "\n",
       "  Gesamt (Netzlast) [MWh] Berechnete Auflösungen   \n",
       "0                                      41.293,00  \\\n",
       "1                                      39.248,25   \n",
       "2                                      38.006,50   \n",
       "3                                      37.418,00   \n",
       "4                                      37.485,00   \n",
       "\n",
       "  Residuallast [MWh] Berechnete Auflösungen   \n",
       "0                                 32.400,00  \\\n",
       "1                                 28.314,75   \n",
       "2                                 24.653,25   \n",
       "3                                 22.519,00   \n",
       "4                                 20.675,25   \n",
       "\n",
       "  Pumpspeicher [MWh] Berechnete Auflösungen  \n",
       "0                                    417,50  \n",
       "1                                    369,50  \n",
       "2                                    572,75  \n",
       "3                                    662,00  \n",
       "4                                  1.030,75  "
      ]
     },
     "execution_count": 2,
     "metadata": {},
     "output_type": "execute_result"
    }
   ],
   "source": [
    "df = pd.read_csv('../data/consumption_2024.csv', sep=\";\", date_format='timestamp')\n",
    "df.head()"
   ]
  },
  {
   "cell_type": "code",
   "execution_count": 3,
   "metadata": {},
   "outputs": [],
   "source": [
    "# Convert 'Datum von' column to datetime with specified format\n",
    "df['Datum von'] = pd.to_datetime(df['Datum von'], format='%d.%m.%Y %H:%M')\n",
    "\n",
    "# Convert 'Gesamt (Netzlast) [MWh] Berechnete Auflösungen' to numeric\n",
    "df['Gesamt (Netzlast) [MWh] Berechnete Auflösungen'] = df['Gesamt (Netzlast) [MWh] Berechnete Auflösungen'] \\\n",
    "    .str.replace('.', '', regex=False) \\\n",
    "    .str.replace(',', '.', regex=False) \\\n",
    "    .astype(float)\n",
    "\n",
    "# Extract hour from 'Datum von' and create a new column 'hour'\n",
    "df['hour'] = df['Datum von'].dt.hour\n",
    "\n",
    "# Aggregate 'Gesamt (Netzlast) [MWh] Berechnete Auflösungen' by 'hour'\n",
    "aggregated_df = df.groupby('hour')['Gesamt (Netzlast) [MWh] Berechnete Auflösungen'].mean().reset_index()\n",
    "\n",
    "# Rename the aggregated column to 'total'\n",
    "aggregated_df.rename(columns={'Gesamt (Netzlast) [MWh] Berechnete Auflösungen': 'total'}, inplace=True)\n"
   ]
  },
  {
   "cell_type": "code",
   "execution_count": 4,
   "metadata": {},
   "outputs": [
    {
     "data": {
      "text/html": [
       "<div>\n",
       "<style scoped>\n",
       "    .dataframe tbody tr th:only-of-type {\n",
       "        vertical-align: middle;\n",
       "    }\n",
       "\n",
       "    .dataframe tbody tr th {\n",
       "        vertical-align: top;\n",
       "    }\n",
       "\n",
       "    .dataframe thead th {\n",
       "        text-align: right;\n",
       "    }\n",
       "</style>\n",
       "<table border=\"1\" class=\"dataframe\">\n",
       "  <thead>\n",
       "    <tr style=\"text-align: right;\">\n",
       "      <th></th>\n",
       "      <th>hour</th>\n",
       "      <th>total</th>\n",
       "    </tr>\n",
       "  </thead>\n",
       "  <tbody>\n",
       "    <tr>\n",
       "      <th>0</th>\n",
       "      <td>0</td>\n",
       "      <td>44733.589237</td>\n",
       "    </tr>\n",
       "    <tr>\n",
       "      <th>1</th>\n",
       "      <td>1</td>\n",
       "      <td>43074.843324</td>\n",
       "    </tr>\n",
       "    <tr>\n",
       "      <th>2</th>\n",
       "      <td>2</td>\n",
       "      <td>42216.010218</td>\n",
       "    </tr>\n",
       "    <tr>\n",
       "      <th>3</th>\n",
       "      <td>3</td>\n",
       "      <td>42262.006131</td>\n",
       "    </tr>\n",
       "    <tr>\n",
       "      <th>4</th>\n",
       "      <td>4</td>\n",
       "      <td>43090.760218</td>\n",
       "    </tr>\n",
       "    <tr>\n",
       "      <th>5</th>\n",
       "      <td>5</td>\n",
       "      <td>45369.692779</td>\n",
       "    </tr>\n",
       "    <tr>\n",
       "      <th>6</th>\n",
       "      <td>6</td>\n",
       "      <td>50347.965940</td>\n",
       "    </tr>\n",
       "    <tr>\n",
       "      <th>7</th>\n",
       "      <td>7</td>\n",
       "      <td>54599.149864</td>\n",
       "    </tr>\n",
       "    <tr>\n",
       "      <th>8</th>\n",
       "      <td>8</td>\n",
       "      <td>57628.036104</td>\n",
       "    </tr>\n",
       "    <tr>\n",
       "      <th>9</th>\n",
       "      <td>9</td>\n",
       "      <td>59144.912125</td>\n",
       "    </tr>\n",
       "    <tr>\n",
       "      <th>10</th>\n",
       "      <td>10</td>\n",
       "      <td>60087.549728</td>\n",
       "    </tr>\n",
       "    <tr>\n",
       "      <th>11</th>\n",
       "      <td>11</td>\n",
       "      <td>60817.518392</td>\n",
       "    </tr>\n",
       "    <tr>\n",
       "      <th>12</th>\n",
       "      <td>12</td>\n",
       "      <td>60293.616485</td>\n",
       "    </tr>\n",
       "    <tr>\n",
       "      <th>13</th>\n",
       "      <td>13</td>\n",
       "      <td>58992.350817</td>\n",
       "    </tr>\n",
       "    <tr>\n",
       "      <th>14</th>\n",
       "      <td>14</td>\n",
       "      <td>57597.500681</td>\n",
       "    </tr>\n",
       "    <tr>\n",
       "      <th>15</th>\n",
       "      <td>15</td>\n",
       "      <td>56895.414850</td>\n",
       "    </tr>\n",
       "    <tr>\n",
       "      <th>16</th>\n",
       "      <td>16</td>\n",
       "      <td>56786.880790</td>\n",
       "    </tr>\n",
       "    <tr>\n",
       "      <th>17</th>\n",
       "      <td>17</td>\n",
       "      <td>57999.678474</td>\n",
       "    </tr>\n",
       "    <tr>\n",
       "      <th>18</th>\n",
       "      <td>18</td>\n",
       "      <td>58623.413488</td>\n",
       "    </tr>\n",
       "    <tr>\n",
       "      <th>19</th>\n",
       "      <td>19</td>\n",
       "      <td>57945.096730</td>\n",
       "    </tr>\n",
       "    <tr>\n",
       "      <th>20</th>\n",
       "      <td>20</td>\n",
       "      <td>55597.008174</td>\n",
       "    </tr>\n",
       "    <tr>\n",
       "      <th>21</th>\n",
       "      <td>21</td>\n",
       "      <td>53102.479564</td>\n",
       "    </tr>\n",
       "    <tr>\n",
       "      <th>22</th>\n",
       "      <td>22</td>\n",
       "      <td>50558.517030</td>\n",
       "    </tr>\n",
       "    <tr>\n",
       "      <th>23</th>\n",
       "      <td>23</td>\n",
       "      <td>47303.585831</td>\n",
       "    </tr>\n",
       "  </tbody>\n",
       "</table>\n",
       "</div>"
      ],
      "text/plain": [
       "    hour         total\n",
       "0      0  44733.589237\n",
       "1      1  43074.843324\n",
       "2      2  42216.010218\n",
       "3      3  42262.006131\n",
       "4      4  43090.760218\n",
       "5      5  45369.692779\n",
       "6      6  50347.965940\n",
       "7      7  54599.149864\n",
       "8      8  57628.036104\n",
       "9      9  59144.912125\n",
       "10    10  60087.549728\n",
       "11    11  60817.518392\n",
       "12    12  60293.616485\n",
       "13    13  58992.350817\n",
       "14    14  57597.500681\n",
       "15    15  56895.414850\n",
       "16    16  56786.880790\n",
       "17    17  57999.678474\n",
       "18    18  58623.413488\n",
       "19    19  57945.096730\n",
       "20    20  55597.008174\n",
       "21    21  53102.479564\n",
       "22    22  50558.517030\n",
       "23    23  47303.585831"
      ]
     },
     "execution_count": 4,
     "metadata": {},
     "output_type": "execute_result"
    }
   ],
   "source": [
    "aggregated_df"
   ]
  },
  {
   "cell_type": "code",
   "execution_count": 5,
   "metadata": {},
   "outputs": [
    {
     "data": {
      "text/plain": [
       "<Axes: xlabel='hour', ylabel='total'>"
      ]
     },
     "execution_count": 5,
     "metadata": {},
     "output_type": "execute_result"
    },
    {
     "data": {
      "image/png": "[encoded data removed]",
      "text/plain": [
       "<Figure size 640x480 with 1 Axes>"
      ]
     },
     "metadata": {},
     "output_type": "display_data"
    }
   ],
   "source": [
    "sns.barplot(aggregated_df, x = 'hour', y = 'total')"
   ]
  },
  {
   "cell_type": "code",
   "execution_count": 6,
   "metadata": {},
   "outputs": [],
   "source": [
    "from sklearn.preprocessing import MinMaxScaler\n",
    "\n",
    "scaler = MinMaxScaler()\n",
    "\n",
    "# Reshape the 'total' column to a 2D array\n",
    "total_reshaped = aggregated_df['total'].values.reshape(-1, 1)\n",
    "\n",
    "# Fit and transform the 'total' column\n",
    "aggregated_df['normalized'] = scaler.fit_transform(total_reshaped)\n"
   ]
  },
  {
   "cell_type": "code",
   "execution_count": 7,
   "metadata": {},
   "outputs": [
    {
     "data": {
      "text/plain": [
       "<Axes: xlabel='hour', ylabel='normalized'>"
      ]
     },
     "execution_count": 7,
     "metadata": {},
     "output_type": "execute_result"
    },
    {
     "data": {
      "image/png": "[encoded data removed]",
      "text/plain": [
       "<Figure size 640x480 with 1 Axes>"
      ]
     },
     "metadata": {},
     "output_type": "display_data"
    }
   ],
   "source": [
    "sns.barplot(aggregated_df, x = 'hour', y = 'normalized')"
   ]
  },
  {
   "cell_type": "code",
   "execution_count": 8,
   "metadata": {},
   "outputs": [],
   "source": [
    "aggregated_df.to_csv('../data/prepared_consumption2024.csv', index=False)"
   ]
  }
 ],
 "metadata": {
  "kernelspec": {
   "display_name": ".venv",
   "language": "python",
   "name": "python3"
  },
  "language_info": {
   "codemirror_mode": {
    "name": "ipython",
    "version": 3
   },
   "file_extension": ".py",
   "mimetype": "text/x-python",
   "name": "python",
   "nbconvert_exporter": "python",
   "pygments_lexer": "ipython3",
   "version": "3.11.3"
  }
 },
 "nbformat": 4,
 "nbformat_minor": 2
}
