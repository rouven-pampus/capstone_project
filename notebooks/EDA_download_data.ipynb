{
 "cells": [
  {
   "cell_type": "code",
   "execution_count": 3,
   "metadata": {},
   "outputs": [],
   "source": [
    "from urllib.request import urlretrieve\n",
    "import os\n",
    "import pandas as pd\n",
    "import numpy as np\n",
    "from datetime import datetime"
   ]
  },
  {
   "cell_type": "markdown",
   "metadata": {},
   "source": [
    "This is an example of how to download the weather data via python. This is no longer needed since we have the data in the database, but I figured it might be useful and/or interesting"
   ]
  },
  {
   "cell_type": "code",
   "execution_count": 1,
   "metadata": {},
   "outputs": [],
   "source": [
    "# Adjust path. \n",
    "# This is an example code for one specific weather station. This can certainly be automated to scrape more at once. \n",
    "path = \"C:/Users/jakob/Documents/neuefische/capstone_project/data\"\n",
    "url1 = \"https://opendata.dwd.de/climate_environment/CDC/observations_germany/climate/hourly/wind/recent/stundenwerte_FF_00691_akt.zip\"\n",
    "url2 = \"https://opendata.dwd.de/climate_environment/CDC/observations_germany/climate/hourly/solar/stundenwerte_ST_00691_row.zip\"\n",
    "url3 = \"https://opendata.dwd.de/climate_environment/CDC/observations_germany/climate/hourly/air_temperature/recent/stundenwerte_TU_00691_akt.zip\"\n",
    "filename1 = \"Bremen_Wind.zip\"\n",
    "filename2 = \"Bremen_Solar.zip\"\n",
    "filename3 = \"Bremen_Temp.zip\""
   ]
  },
  {
   "cell_type": "code",
   "execution_count": 4,
   "metadata": {},
   "outputs": [],
   "source": [
    "# Prepare path names\n",
    "wind = os.path.join(path, filename1)\n",
    "solar = os.path.join(path, filename2)\n",
    "temp = os.path.join(path, filename3)"
   ]
  },
  {
   "cell_type": "code",
   "execution_count": 5,
   "metadata": {},
   "outputs": [
    {
     "data": {
      "text/plain": [
       "('C:/Users/jakob/Documents/neuefische/capstone_project/data\\\\Bremen_Temp.zip',\n",
       " <http.client.HTTPMessage at 0x18e47ce1fd0>)"
      ]
     },
     "execution_count": 5,
     "metadata": {},
     "output_type": "execute_result"
    }
   ],
   "source": [
    "# Download the data\n",
    "urlretrieve(url1, wind)\n",
    "urlretrieve(url2, solar)\n",
    "urlretrieve(url3, temp)"
   ]
  },
  {
   "cell_type": "code",
   "execution_count": 19,
   "metadata": {},
   "outputs": [
    {
     "name": "stdout",
     "output_type": "stream",
     "text": [
      "^C\n",
      "Archive:  ../data/Bremen_Solar.zip\n",
      "  inflating: ../data/produkt_st_stunde_20090101_20240531_00691.txt  \n"
     ]
    }
   ],
   "source": [
    "# Unzip only the relevant file in the zip folder\n",
    "!unzip ../data/Bremen_Wind.zip produkt_ff_stunde_20221218_20240619_00691.txt -d ../data/\n",
    "!unzip ../data/Bremen_Solar.zip produkt_st_stunde_20090101_20240531_00691.txt -d ../data/\n",
    "!unzip ../data/Bremen_Temp.zip produkt_tu_stunde_20221218_20240619_00691.txt -d ../data/"
   ]
  },
  {
   "cell_type": "code",
   "execution_count": 113,
   "metadata": {},
   "outputs": [
    {
     "name": "stdout",
     "output_type": "stream",
     "text": [
      "Processed file: produkt_st_stunde_19790101_20240531_05906.txt\n",
      "Processed file: produkt_st_stunde_19810101_20240531_05779.txt\n",
      "All files have been processed.\n"
     ]
    }
   ],
   "source": [
    "# Some of the txt files can be long, especially when taking historic and not recent data (sometimes starting in the 40s or earlier). \n",
    "# This code kicks out all rows with a date earlier than specified (in this case earlier than 2015)\n",
    "\n",
    "folder_path = \"C:/Users/jakob/Documents/neuefische/capstone_project/data\"\n",
    "\n",
    "for filename in os.listdir(folder_path):\n",
    "    if filename.endswith('.txt'):  # Process only .txt files\n",
    "        file_path = os.path.join(folder_path, filename)\n",
    "        \n",
    "        # Read the file into a DataFrame\n",
    "        df = pd.read_csv(file_path, sep=';', skipinitialspace=True)\n",
    "        \n",
    "        # Convert MESS_DATUM to datetime format\n",
    "        df['MESS_DATUM'] = pd.to_datetime(df['MESS_DATUM'], format='%Y%m%d%H:%M')\n",
    "        \n",
    "        # Filter out rows with datetime of 2014 or earlier\n",
    "        df = df[df['MESS_DATUM'] > datetime(2014, 12, 31, 23, 59, 59)]\n",
    "        \n",
    "        # Save the cleaned DataFrame back to the same file\n",
    "        df.to_csv(file_path, sep=';', index=False)\n",
    "        \n",
    "        print(f\"Processed file: {filename}\")\n",
    "\n",
    "print(\"All files have been processed.\")"
   ]
  },
  {
   "cell_type": "code",
   "execution_count": 47,
   "metadata": {},
   "outputs": [],
   "source": [
    "# Read the files. Again this can probably be done better/automated\n",
    "wind = pd.read_csv(\"../data/produkt_ff_stunde_20221218_20240619_00691.txt\", sep=\";\")\n",
    "solar = pd.read_csv(\"../data/produkt_st_stunde_20090101_20240531_00691.txt\", sep=\";\")\n",
    "temp = pd.read_csv(\"../data/produkt_tu_stunde_20221218_20240619_00691.txt\", sep=\";\")"
   ]
  }
 ],
 "metadata": {
  "kernelspec": {
   "display_name": ".venv",
   "language": "python",
   "name": "python3"
  },
  "language_info": {
   "codemirror_mode": {
    "name": "ipython",
    "version": 3
   },
   "file_extension": ".py",
   "mimetype": "text/x-python",
   "name": "python",
   "nbconvert_exporter": "python",
   "pygments_lexer": "ipython3",
   "version": "3.11.3"
  }
 },
 "nbformat": 4,
 "nbformat_minor": 2
}
