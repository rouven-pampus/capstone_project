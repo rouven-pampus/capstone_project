{
 "cells": [
  {
   "cell_type": "markdown",
   "metadata": {},
   "source": [
    "# EDA Capstone Project - Electricity Forecast\n",
    "---\n",
    "\n",
    "Information: <br>\n",
    "The aim of this script is to examine a proper EDA on the dataset.\n",
    "<br><br>\n",
    "Expected Output:\n",
    " * Visualization of important features (stored in ../eda_plots)\n",
    " * Precise insights for data cleaning and data preparation\n",
    "\n",
    "---\n",
    "\n",
    "## Setup"
   ]
  },
  {
   "cell_type": "code",
   "execution_count": 1,
   "metadata": {},
   "outputs": [],
   "source": [
    "# Main data packages. \n",
    "import numpy as np\n",
    "import pandas as pd\n",
    "\n",
    "# Getting data\n",
    "from dotenv import load_dotenv\n",
    "import os\n",
    "from sqlalchemy import create_engine\n",
    "\n",
    "# Data Viz. \n",
    "import statsmodels.formula.api as smf\n",
    "from statsmodels.tsa.seasonal import seasonal_decompose\n",
    "from scipy.ndimage import gaussian_filter\n",
    "from calendar import monthrange\n",
    "from calendar import month_name\n",
    "\n",
    "import matplotlib.pyplot as plt\n",
    "import matplotlib.patches as patches\n",
    "import seaborn as sns\n",
    "\n",
    "sns.set_style(\n",
    "    style='darkgrid', \n",
    "    rc={'axes.facecolor': 'white', 'grid.color': '.8'}\n",
    ")\n",
    "NF_ORANGE = '#ff5a36'\n",
    "NF_BLUE = '#163251'\n",
    "cmaps_hex = ['#193251','#FF5A36','#696969', '#7589A2','#FF5A36', '#DB6668']\n",
    "sns.set_palette(palette=cmaps_hex)\n",
    "sns_c = sns.color_palette(palette=cmaps_hex)\n",
    "%matplotlib inline\n",
    "from pandas.plotting import register_matplotlib_converters\n",
    "register_matplotlib_converters()\n",
    "\n",
    "plt.rcParams['figure.figsize'] = [12, 6]\n",
    "plt.rcParams['figure.dpi'] = 300\n",
    "\n"
   ]
  },
  {
   "cell_type": "markdown",
   "metadata": {},
   "source": [
    "---\n",
    "\n",
    "## Start EDA\n",
    "\n",
    "---\n",
    "\n",
    "### load and inspect data"
   ]
  },
  {
   "cell_type": "code",
   "execution_count": 2,
   "metadata": {},
   "outputs": [],
   "source": [
    "# load data\n",
    "\n",
    "# Load environment variables from .env file\n",
    "load_dotenv()\n",
    "\n",
    "# Get database connection parameters from environment variables\n",
    "db_name = os.getenv('DB_NAME')\n",
    "db_user = os.getenv('DB_USER')\n",
    "db_password = os.getenv('DB_PASSWORD')\n",
    "db_host = os.getenv('DB_HOST')\n",
    "db_port = os.getenv('DB_PORT')\n",
    "\n",
    "# Create the database URL\n",
    "db_url = f\"postgresql://{db_user}:{db_password}@{db_host}:{db_port}/{db_name}\"\n",
    "\n",
    "# Create an engine\n",
    "engine = create_engine(db_url)\n",
    "\n",
    "# Define your query\n",
    "query = 'SELECT * FROM \"03_gold\".\"name_of_the_table\"'\n",
    "\n",
    "# Execute the query and load the data into a pandas DataFrame\n",
    "df_check = pd.read_sql(query, engine)\n",
    "\n",
    "# Display the DataFrame\n",
    "print(df_check.head())\n",
    "# df = pd.read_csv('')"
   ]
  },
  {
   "cell_type": "code",
   "execution_count": 3,
   "metadata": {},
   "outputs": [],
   "source": [
    "# inspect data\n",
    "# df.head()"
   ]
  },
  {
   "cell_type": "code",
   "execution_count": null,
   "metadata": {},
   "outputs": [],
   "source": [
    "# Check for dtypes and NAs\n",
    "# df.info()"
   ]
  },
  {
   "cell_type": "code",
   "execution_count": null,
   "metadata": {},
   "outputs": [],
   "source": [
    "# Check numeric features\n",
    "# df.describe()"
   ]
  },
  {
   "cell_type": "code",
   "execution_count": null,
   "metadata": {},
   "outputs": [],
   "source": [
    "# Check duplicates\n",
    "# print(df.duplicated().sum())\n",
    "\n",
    "# if df.duplicated().sum() > 0:\n",
    "#     df = df.drop_duplicates()"
   ]
  },
  {
   "cell_type": "code",
   "execution_count": null,
   "metadata": {},
   "outputs": [],
   "source": [
    "# Check missing values\n",
    "# df.isnull().sum()"
   ]
  },
  {
   "cell_type": "markdown",
   "metadata": {},
   "source": [
    "First insights:\n",
    " * No. of rows:\n",
    " * No. of columns:\n",
    " * Mismatching dtypes:\n",
    " * NA's:\n",
    " * Duplicated values: \n",
    "\n",
    "---\n"
   ]
  },
  {
   "cell_type": "markdown",
   "metadata": {},
   "source": [
    "### check features\n",
    "\n",
    "Suggestion: use Seaborn for plotting."
   ]
  },
  {
   "cell_type": "code",
   "execution_count": null,
   "metadata": {},
   "outputs": [],
   "source": [
    "# Template for visualization over time\n",
    "fig, ax = plt.subplots()\n",
    "sns.lineplot(x='time_variable', y='y_variable', data=df, ax=ax)\n",
    "ax.set(title='Title')\n",
    "ax.set_xlabel('Time_Name')\n",
    "ax.set_ylabel('y_variable_name [unit]');\n",
    "\n",
    "fig.savefig(\"../eda_plots/plot_name_that_makes_sense.png\")"
   ]
  },
  {
   "cell_type": "code",
   "execution_count": 4,
   "metadata": {},
   "outputs": [],
   "source": [
    "# Recognize linear and non-linear correlations and outliers\n",
    "sns.pairplot(df)\n",
    "plt.show()\n"
   ]
  },
  {
   "cell_type": "code",
   "execution_count": 5,
   "metadata": {},
   "outputs": [],
   "source": [
    "# Check correlation\n",
    "plt.figure(figsize=(12, 8))\n",
    "sns.heatmap(df.corr(), annot=True, cmap='coolwarm')\n",
    "plt.title('Correlation Matrix Heatmap')\n",
    "plt.show()\n"
   ]
  },
  {
   "cell_type": "code",
   "execution_count": null,
   "metadata": {},
   "outputs": [],
   "source": [
    "# Plot wind and solar \n",
    "\n",
    "# Bar chart for total production\n",
    "plt.bar(['Solar', 'Wind', 'Total'], [total_solar, total_wind, total_production])\n",
    "plt.ylabel('Production Quantity')\n",
    "plt.title('Comparison of Energy Production')\n",
    "plt.show()\n",
    "\n",
    "# Time series plot\n",
    "plt.figure(figsize=(12, 6))\n",
    "plt.plot(df['Date'], df['SolarProduction'], label='Solar')\n",
    "plt.plot(df['Date'], df['WindProduction'], label='Wind')\n",
    "plt.xlabel('Date')\n",
    "plt.ylabel('Production Quantity')\n",
    "plt.title('Time Trend of Energy Production')\n",
    "plt.legend()\n",
    "plt.show()\n"
   ]
  },
  {
   "cell_type": "markdown",
   "metadata": {},
   "source": [
    "---\n",
    "### check trend\n",
    "\n",
    "Here we want to see the trend of the price over the year/years. Later on, we can substract this rolling mean to de-trend the data and focus more on seasonality (weekly/daily). \n",
    "\n",
    "Understand again, if this is necessary for all variables?\n",
    "\n",
    "#### price"
   ]
  },
  {
   "cell_type": "code",
   "execution_count": null,
   "metadata": {},
   "outputs": [],
   "source": [
    "# Plot moving average of different length (week, month, year)\n",
    "ma = [7, 30, 365]\n",
    "\n",
    "\n",
    "smooth_daily_data_df = daily_data_df \\\n",
    "    .reset_index() \\\n",
    "    .assign(date = lambda x: x['date'].transform(pd.to_datetime))\n",
    "\n",
    "# Smooth and plot\n",
    "fig, ax = plt.subplots(len(ma)+1, 1, constrained_layout=True, sharex=True)\n",
    "plt.suptitle('Price Development (Daily) - Moving Average Smoothing', y=1.02);\n",
    "\n",
    "for i, m in enumerate(ma):\n",
    "    smooth_daily_data_df[f'price_smooth_ma_{m}'] = smooth_daily_data_df['price'].rolling(window=m,center=True).mean() #compute the rolling mean\n",
    "\n",
    "    sns.lineplot(x='date', y='price', label='Price (Signal)', data=smooth_daily_data_df,  ax=ax[i])\n",
    "    sns.lineplot(x='date', y=f'price_smooth_ma_{m}', label=f'Price smoothed:\\n ma = {m} days', data=smooth_daily_data_df, color=NF_ORANGE, ax=ax[i])\n",
    "\n",
    "    ax[i].legend(title='', loc='center left', bbox_to_anchor=(1, 0.5))\n",
    "    ax[i].set(title='', ylabel=r'$^\\circ$C');\n",
    "        \n",
    "sns.lineplot(x='date', y=f'price_smooth_ma_{m}', label=f'Price smoothed:\\n ma = {m} days', data=smooth_daily_data_df, color=sns_c[1], ax=ax[i+1])\n",
    "ax[i+1].legend(title='', loc='center left', bbox_to_anchor=(1, 0.5))\n",
    "ax[i+1].set(title='', ylabel='$')\n",
    "\n",
    "    \n",
    "fig.savefig(\"../eda_plots/Price_MA_Smoothing.png\")"
   ]
  },
  {
   "cell_type": "code",
   "execution_count": null,
   "metadata": {},
   "outputs": [],
   "source": [
    "# Plot the Average daily price trend over time\n",
    "# Set the 'start_date' as an index if it is not yet set\n",
    "df.set_index('start_date', inplace=True)\n",
    "\n",
    "# Resampling of the data to daily average values\n",
    "daily_data = df['land[€/MWh]'].resample('D').mean()\n",
    "\n",
    "# Visualize the resampled data\n",
    "plt.figure(figsize=(10, 5))\n",
    "plt.plot(daily_data.index, daily_data, marker='o', linestyle='-')\n",
    "plt.title('Average daily price trend over time')\n",
    "plt.xlabel('Date')\n",
    "plt.ylabel('Average price  [€/MWh]')\n",
    "plt.grid(True)\n",
    "plt.show()"
   ]
  },
  {
   "cell_type": "markdown",
   "metadata": {},
   "source": [
    "#### temperature"
   ]
  },
  {
   "cell_type": "code",
   "execution_count": null,
   "metadata": {},
   "outputs": [],
   "source": [
    "# Plot moving average of different length (week, month, year)\n",
    "ma = [7, 30, 365]\n",
    "\n",
    "\n",
    "smooth_daily_data_df = daily_data_df \\\n",
    "    .reset_index() \\\n",
    "    .assign(date = lambda x: x['date'].transform(pd.to_datetime))\n",
    "\n",
    "# Smooth and plot\n",
    "fig, ax = plt.subplots(len(ma)+1, 1, figsize=(12, 9), constrained_layout=True, sharex=True)\n",
    "plt.suptitle('Temperature (Daily) - Moving Average Smoothing', y=1.02);\n",
    "\n",
    "for i, m in enumerate(ma):\n",
    "    smooth_daily_data_df[f'temp_smooth_ma_{m}'] = smooth_daily_data_df['temperature'].rolling(window=m,center=True).mean() #compute the rolling mean\n",
    "\n",
    "    sns.lineplot(x='date', y='temperature', label='Temperature (Signal)', data=smooth_daily_data_df,  ax=ax[i])\n",
    "    sns.lineplot(x='date', y=f'temp_smooth_ma_{m}', label=f'Temperature smoothed:\\n ma = {m} days', data=smooth_daily_data_df, color=NF_ORANGE, ax=ax[i])\n",
    "\n",
    "    ax[i].legend(title='', loc='center left', bbox_to_anchor=(1, 0.5))\n",
    "    ax[i].set(title='', ylabel=r'$^\\circ$C');\n",
    "        \n",
    "sns.lineplot(x='date', y=f'temp_smooth_ma_{m}', label=f'Temperature smoothed:\\n ma = {m} days', data=smooth_daily_data_df, color=sns_c[1], ax=ax[i+1])\n",
    "ax[i+1].legend(title='', loc='center left', bbox_to_anchor=(1, 0.5))\n",
    "ax[i+1].set(title='', ylabel=r'$^\\circ$C');\n",
    "\n",
    "    \n",
    "fig.savefig(\"../eda_plots/Temp_MA_Smoothing.png\")"
   ]
  },
  {
   "cell_type": "markdown",
   "metadata": {},
   "source": [
    "### hours of sunshine"
   ]
  },
  {
   "cell_type": "code",
   "execution_count": null,
   "metadata": {},
   "outputs": [],
   "source": [
    "# Visualization of the hours of sunshine\n",
    "plt.subplot(311)\n",
    "plt.plot(df['SunshineHours'], label='Sunshine Hours')\n",
    "plt.xlabel('Date')\n",
    "plt.ylabel('Hours')\n",
    "plt.legend(loc='best')\n",
    "\n"
   ]
  },
  {
   "cell_type": "code",
   "execution_count": null,
   "metadata": {},
   "outputs": [],
   "source": [
    "# Sunshine Hours and Solar Production Over Time\n",
    "\n",
    "import matplotlib.dates as mdates\n",
    "\n",
    "# Assuming df is your DataFrame and it contains columns 'Date', 'SunshineHours', and 'SolarProduction'\n",
    "df['Date'] = pd.to_datetime(df['Date'])  \n",
    "\n",
    "fig, ax1 = plt.subplots(figsize=(10, 6))\n",
    "\n",
    "# Create the first Y-axis for the hours of sunshine\n",
    "color = 'tab:blue'\n",
    "ax1.set_xlabel('Date')\n",
    "ax1.set_ylabel('Sunshine Hours', color=color)\n",
    "ax1.plot(df['Date'], df['SunshineHours'], color=color)\n",
    "ax1.tick_params(axis='y', labelcolor=color)\n",
    "\n",
    "# Create the second Y-axis for solar production\n",
    "ax2 = ax1.twinx()  # Create a second Y-axis that divides the first axis\n",
    "color = 'tab:red'\n",
    "ax2.set_ylabel('Solar Production', color=color)  # we already handled the x-label with ax1\n",
    "ax2.plot(df['Date'], df['SolarProduction'], color=color)\n",
    "ax2.tick_params(axis='y', labelcolor=color)\n",
    "\n",
    "# Formatting the X-axis for dates\n",
    "ax1.xaxis.set_major_locator(mdates.AutoDateLocator())\n",
    "ax1.xaxis.set_major_formatter(mdates.DateFormatter('%Y-%m-%d'))\n",
    "fig.autofmt_xdate()  # Improves the display of date labels (skewed)\n",
    "\n",
    "plt.title('Sunshine Hours and Solar Production Over Time')\n",
    "plt.show()"
   ]
  },
  {
   "cell_type": "markdown",
   "metadata": {},
   "source": [
    "---\n",
    "\n",
    "## Insights\n",
    "\n",
    "The following steps need to be addressed in the (automatized) data cleaning and feature engineering /selection process:\n",
    " * Step 1:\n",
    "\n",
    " * Step 2:\n",
    " \n",
    " * Step 3:\n",
    "\n",
    "---"
   ]
  }
 ],
 "metadata": {
  "kernelspec": {
   "display_name": ".venv",
   "language": "python",
   "name": "python3"
  },
  "language_info": {
   "codemirror_mode": {
    "name": "ipython",
    "version": 3
   },
   "file_extension": ".py",
   "mimetype": "text/x-python",
   "name": "python",
   "nbconvert_exporter": "python",
   "pygments_lexer": "ipython3",
   "version": "3.11.3"
  }
 },
 "nbformat": 4,
 "nbformat_minor": 2
}
