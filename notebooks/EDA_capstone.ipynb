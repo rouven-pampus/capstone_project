{
 "cells": [
  {
   "cell_type": "markdown",
   "metadata": {},
   "source": [
    "# EDA Capstone Project - Electricity Forecast\n",
    "---\n",
    "\n",
    "Information: <br>\n",
    "The aim of this script is to examine a proper EDA on the dataset.\n",
    "<br><br>\n",
    "Expected Output:\n",
    " * Visualization of important features (stored in ../eda_plots)\n",
    " * Precise insights for data cleaning and data preparation\n",
    "\n",
    "---\n",
    "\n",
    "## Setup"
   ]
  },
  {
   "cell_type": "code",
   "execution_count": 1,
   "metadata": {},
   "outputs": [],
   "source": [
    "# Main data packages. \n",
    "import numpy as np\n",
    "import pandas as pd\n",
    "\n",
    "# Data Viz. \n",
    "import statsmodels.formula.api as smf\n",
    "from statsmodels.tsa.seasonal import seasonal_decompose\n",
    "from scipy.ndimage import gaussian_filter\n",
    "from calendar import monthrange\n",
    "from calendar import month_name\n",
    "\n",
    "import matplotlib.pyplot as plt\n",
    "import matplotlib.patches as patches\n",
    "import seaborn as sns\n",
    "sns.set_style(\n",
    "    style='darkgrid', \n",
    "    rc={'axes.facecolor': 'white', 'grid.color': '.8'}\n",
    ")\n",
    "NF_ORANGE = '#ff5a36'\n",
    "NF_BLUE = '#163251'\n",
    "cmaps_hex = ['#193251','#FF5A36','#696969', '#7589A2','#FF5A36', '#DB6668']\n",
    "sns.set_palette(palette=cmaps_hex)\n",
    "sns_c = sns.color_palette(palette=cmaps_hex)\n",
    "%matplotlib inline\n",
    "from pandas.plotting import register_matplotlib_converters\n",
    "register_matplotlib_converters()\n",
    "\n",
    "plt.rcParams['figure.figsize'] = [12, 6]\n",
    "plt.rcParams['figure.dpi'] = 300"
   ]
  },
  {
   "cell_type": "markdown",
   "metadata": {},
   "source": [
    "---\n",
    "\n",
    "## Start EDA\n",
    "\n",
    "---\n",
    "\n",
    "### load and inspect data"
   ]
  },
  {
   "cell_type": "code",
   "execution_count": 2,
   "metadata": {},
   "outputs": [],
   "source": [
    "# load data\n",
    "# df = pd.read_csv('')"
   ]
  },
  {
   "cell_type": "code",
   "execution_count": 3,
   "metadata": {},
   "outputs": [],
   "source": [
    "# inspect data\n",
    "# df.head()"
   ]
  },
  {
   "cell_type": "code",
   "execution_count": null,
   "metadata": {},
   "outputs": [],
   "source": [
    "# Check for dtypes and NAs\n",
    "# df.info()"
   ]
  },
  {
   "cell_type": "code",
   "execution_count": null,
   "metadata": {},
   "outputs": [],
   "source": [
    "# Check numeric features\n",
    "# df.describe()"
   ]
  },
  {
   "cell_type": "code",
   "execution_count": null,
   "metadata": {},
   "outputs": [],
   "source": [
    "# Check duplicates\n",
    "# print(df.duplicated().sum())\n",
    "\n",
    "# if df.duplicated().sum() > 0:\n",
    "#     df = df.drop_duplicates()"
   ]
  },
  {
   "cell_type": "markdown",
   "metadata": {},
   "source": [
    "First insights:\n",
    " * No. of rows:\n",
    " * No. of columns:\n",
    " * Mismatching dtypes:\n",
    " * NA's:\n",
    " * Duplicated values: \n",
    "\n",
    "---\n"
   ]
  },
  {
   "cell_type": "markdown",
   "metadata": {},
   "source": [
    "### check features\n",
    "\n",
    "Suggestion: use Seaborn for plotting."
   ]
  },
  {
   "cell_type": "code",
   "execution_count": null,
   "metadata": {},
   "outputs": [],
   "source": [
    "# Template for visualization over time\n",
    "fig, ax = plt.subplots()\n",
    "sns.lineplot(x='time_variable', y='y_variable', data=df, ax=ax)\n",
    "ax.set(title='Title')\n",
    "ax.set_xlabel('Time_Name')\n",
    "ax.set_ylabel('y_variable_name [unit]');\n",
    "\n",
    "fig.savefig(\"../eda_plots/plot_name_that_makes_sense.png\")"
   ]
  },
  {
   "cell_type": "code",
   "execution_count": 4,
   "metadata": {},
   "outputs": [],
   "source": [
    "# check more features\n"
   ]
  },
  {
   "cell_type": "code",
   "execution_count": 5,
   "metadata": {},
   "outputs": [],
   "source": [
    "# check more features\n"
   ]
  },
  {
   "cell_type": "markdown",
   "metadata": {},
   "source": [
    "---\n",
    "### check trend\n",
    "\n",
    "Here we want to see the trend of the price over the year/years. Later on, we can substract this rolling mean to de-trend the data and focus more on seasonality (weekly/daily). \n",
    "\n",
    "Understand again, if this is necessary for all variables?\n",
    "\n",
    "#### price"
   ]
  },
  {
   "cell_type": "code",
   "execution_count": null,
   "metadata": {},
   "outputs": [],
   "source": [
    "# Plot moving average of different length (week, month, year)\n",
    "ma = [7, 30, 365]\n",
    "\n",
    "\n",
    "smooth_daily_data_df = daily_data_df \\\n",
    "    .reset_index() \\\n",
    "    .assign(date = lambda x: x['date'].transform(pd.to_datetime))\n",
    "\n",
    "# Smooth and plot\n",
    "fig, ax = plt.subplots(len(ma)+1, 1, constrained_layout=True, sharex=True)\n",
    "plt.suptitle('Price Development (Daily) - Moving Average Smoothing', y=1.02);\n",
    "\n",
    "for i, m in enumerate(ma):\n",
    "    smooth_daily_data_df[f'price_smooth_ma_{m}'] = smooth_daily_data_df['price'].rolling(window=m,center=True).mean() #compute the rolling mean\n",
    "\n",
    "    sns.lineplot(x='date', y='price', label='Price (Signal)', data=smooth_daily_data_df,  ax=ax[i])\n",
    "    sns.lineplot(x='date', y=f'price_smooth_ma_{m}', label=f'Price smoothed:\\n ma = {m} days', data=smooth_daily_data_df, color=NF_ORANGE, ax=ax[i])\n",
    "\n",
    "    ax[i].legend(title='', loc='center left', bbox_to_anchor=(1, 0.5))\n",
    "    ax[i].set(title='', ylabel=r'$^\\circ$C');\n",
    "        \n",
    "sns.lineplot(x='date', y=f'price_smooth_ma_{m}', label=f'Price smoothed:\\n ma = {m} days', data=smooth_daily_data_df, color=sns_c[1], ax=ax[i+1])\n",
    "ax[i+1].legend(title='', loc='center left', bbox_to_anchor=(1, 0.5))\n",
    "ax[i+1].set(title='', ylabel='$')\n",
    "\n",
    "    \n",
    "fig.savefig(\"../eda_plots/Price_MA_Smoothing.png\")"
   ]
  },
  {
   "cell_type": "markdown",
   "metadata": {},
   "source": [
    "#### temperature"
   ]
  },
  {
   "cell_type": "code",
   "execution_count": null,
   "metadata": {},
   "outputs": [],
   "source": [
    "# Plot moving average of different length (week, month, year)\n",
    "ma = [7, 30, 365]\n",
    "\n",
    "\n",
    "smooth_daily_data_df = daily_data_df \\\n",
    "    .reset_index() \\\n",
    "    .assign(date = lambda x: x['date'].transform(pd.to_datetime))\n",
    "\n",
    "# Smooth and plot\n",
    "fig, ax = plt.subplots(len(ma)+1, 1, figsize=(12, 9), constrained_layout=True, sharex=True)\n",
    "plt.suptitle('Temperature (Daily) - Moving Average Smoothing', y=1.02);\n",
    "\n",
    "for i, m in enumerate(ma):\n",
    "    smooth_daily_data_df[f'temp_smooth_ma_{m}'] = smooth_daily_data_df['temperature'].rolling(window=m,center=True).mean() #compute the rolling mean\n",
    "\n",
    "    sns.lineplot(x='date', y='temperature', label='Temperature (Signal)', data=smooth_daily_data_df,  ax=ax[i])\n",
    "    sns.lineplot(x='date', y=f'temp_smooth_ma_{m}', label=f'Temperature smoothed:\\n ma = {m} days', data=smooth_daily_data_df, color=NF_ORANGE, ax=ax[i])\n",
    "\n",
    "    ax[i].legend(title='', loc='center left', bbox_to_anchor=(1, 0.5))\n",
    "    ax[i].set(title='', ylabel=r'$^\\circ$C');\n",
    "        \n",
    "sns.lineplot(x='date', y=f'temp_smooth_ma_{m}', label=f'Temperature smoothed:\\n ma = {m} days', data=smooth_daily_data_df, color=sns_c[1], ax=ax[i+1])\n",
    "ax[i+1].legend(title='', loc='center left', bbox_to_anchor=(1, 0.5))\n",
    "ax[i+1].set(title='', ylabel=r'$^\\circ$C');\n",
    "\n",
    "    \n",
    "fig.savefig(\"../eda_plots/Temp_MA_Smoothing.png\")"
   ]
  },
  {
   "cell_type": "markdown",
   "metadata": {},
   "source": [
    "---\n",
    "\n",
    "## Insights\n",
    "\n",
    "The following steps need to be addressed in the (automatized) data cleaning and feature engineering /selection process:\n",
    " * Step 1:\n",
    "\n",
    " * Step 2:\n",
    " \n",
    " * Step 3:\n",
    "\n",
    "---"
   ]
  }
 ],
 "metadata": {
  "kernelspec": {
   "display_name": ".venv",
   "language": "python",
   "name": "python3"
  },
  "language_info": {
   "codemirror_mode": {
    "name": "ipython",
    "version": 3
   },
   "file_extension": ".py",
   "mimetype": "text/x-python",
   "name": "python",
   "nbconvert_exporter": "python",
   "pygments_lexer": "ipython3",
   "version": "3.11.3"
  }
 },
 "nbformat": 4,
 "nbformat_minor": 2
}
